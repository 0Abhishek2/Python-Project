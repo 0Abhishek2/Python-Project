{
 "cells": [
  {
   "cell_type": "markdown",
   "id": "bebd7430-fc03-48c8-94f7-09a690583544",
   "metadata": {},
   "source": [
    "# Analysis Questions"
   ]
  },
  {
   "cell_type": "code",
   "execution_count": null,
   "id": "2430fdd1-5e98-4c07-bb91-4e8ce4ab66bf",
   "metadata": {},
   "outputs": [],
   "source": [
    "# 1 You need to calculate the monthly sales of the store and identify which month had the highest sales and which month had the lowest sales.\n",
    "\n",
    "# 2 You need to analyze sales based on product categories and determine which category has the lowest sales and which category has the highest sales.\n",
    "\n",
    "# 3 The sales analysis needs to be done based on sub-categories.\n",
    "\n",
    "# 4 You need to analyze the monthly profit from sales and determine which month had the highest profit.\n",
    "\n",
    "# 5 Analyze the profit by category and sub-category.\n",
    "\n",
    "# 6 Analyze the sales and profit by customer segment.\n",
    "\n",
    "# 7 Analyze the sales-to-profit ratio."
   ]
  },
  {
   "cell_type": "code",
   "execution_count": null,
   "id": "b966557f-89b8-427e-af25-ee1774c4814a",
   "metadata": {},
   "outputs": [],
   "source": [
    "!pip install plotly --user"
   ]
  },
  {
   "cell_type": "code",
   "execution_count": null,
   "id": "0ce8030d-aca3-4b46-8fc6-e4c6638e5d69",
   "metadata": {},
   "outputs": [],
   "source": [
    "import pandas as pd\n",
    "\n",
    "import plotly.express as px\n",
    "import plotly.graph_objects as go\n",
    "import plotly.io as pio\n",
    "import plotly.colors as colors\n",
    "pio.templates.default = \"plotly_white\"\n"
   ]
  },
  {
   "cell_type": "code",
   "execution_count": null,
   "id": "01733dd7-3f0f-4510-9e4c-ddd56c65e067",
   "metadata": {},
   "outputs": [],
   "source": [
    "data = pd.read_csv(\"Sample - Superstore.csv\", encoding = \"latin-1\")\n",
    "data.head()"
   ]
  },
  {
   "cell_type": "code",
   "execution_count": null,
   "id": "dfccdc7a-6f32-444d-9fe1-fcc5289983e3",
   "metadata": {},
   "outputs": [],
   "source": [
    " data.describe()"
   ]
  },
  {
   "cell_type": "code",
   "execution_count": null,
   "id": "5bb9e59e-ae7c-427c-9f62-fe028b905ed3",
   "metadata": {},
   "outputs": [],
   "source": [
    "data.info()"
   ]
  },
  {
   "cell_type": "markdown",
   "id": "19ab35e7-f1d8-48bb-bcba-165fe4fa1f46",
   "metadata": {},
   "source": [
    "# converting data columns "
   ]
  },
  {
   "cell_type": "code",
   "execution_count": null,
   "id": "e46a6b98-de07-4f46-a847-984af83f745b",
   "metadata": {},
   "outputs": [],
   "source": [
    "data['Order Date'] = pd.to_datetime(data['Order Date'])\n",
    "data['Ship Date'] = pd.to_datetime(data['Ship Date'])"
   ]
  },
  {
   "cell_type": "code",
   "execution_count": null,
   "id": "77fa0703-8822-4bcd-97ba-4139115d821a",
   "metadata": {},
   "outputs": [],
   "source": [
    "data.info()"
   ]
  },
  {
   "cell_type": "code",
   "execution_count": null,
   "id": "a32a4fd1-5f21-4e87-999b-ec2490c7d1d4",
   "metadata": {},
   "outputs": [],
   "source": [
    "data.head()"
   ]
  },
  {
   "cell_type": "code",
   "execution_count": null,
   "id": "c3a37042-a455-4e07-b1a2-172753b0edb7",
   "metadata": {},
   "outputs": [],
   "source": [
    "data['Order Month'] = data['Order Date'].dt.month\n",
    "data['Order Year'] = data['Order Date'].dt.year\n",
    "data['Order Day of Week'] = data['Order Date'].dt.dayofweek"
   ]
  },
  {
   "cell_type": "code",
   "execution_count": null,
   "id": "99dda781-e2c8-4476-9e9f-c43182330f64",
   "metadata": {},
   "outputs": [],
   "source": [
    "data.head()"
   ]
  },
  {
   "cell_type": "markdown",
   "id": "18fbda6c-b779-4140-8abc-5d37e8a07fcf",
   "metadata": {},
   "source": [
    "# Monthly Sales Analysis"
   ]
  },
  {
   "cell_type": "code",
   "execution_count": null,
   "id": "84486271-c3f1-410d-b416-2240ad72a9f1",
   "metadata": {},
   "outputs": [],
   "source": [
    "sales_by_month = data.groupby('Order Month')['Sales'].sum().reset_index()\n",
    "# fig = px.line(sales_by_month,\n",
    "#               x='Order Month',\n",
    "#               y= 'Sales'\n",
    "#               title = 'Monthly Sales Analysis')\n",
    "# fig.show()"
   ]
  },
  {
   "cell_type": "code",
   "execution_count": null,
   "id": "670766d3-07b6-435a-a481-3b0b28fe5318",
   "metadata": {},
   "outputs": [],
   "source": [
    "print(sales_by_month)"
   ]
  },
  {
   "cell_type": "code",
   "execution_count": null,
   "id": "d95e7cf2-2126-4b82-90e8-e6700ee30710",
   "metadata": {},
   "outputs": [],
   "source": [
    "fig = px.line(sales_by_month,\n",
    "              x='Order Month',\n",
    "              y= 'Sales',\n",
    "              title = 'Monthly Sales Analysis')\n",
    "fig.show()"
   ]
  },
  {
   "cell_type": "markdown",
   "id": "a2192124-312d-4980-a258-ff3836734e49",
   "metadata": {},
   "source": [
    "# Sales By Category"
   ]
  },
  {
   "cell_type": "code",
   "execution_count": null,
   "id": "612db282-87f9-488a-b77b-593f5c3c47ae",
   "metadata": {},
   "outputs": [],
   "source": [
    "sales_by_category = data.groupby('Category') ['Sales'].sum().reset_index()"
   ]
  },
  {
   "cell_type": "code",
   "execution_count": null,
   "id": "d2119f4b-b638-4e23-9c74-423ce9391107",
   "metadata": {},
   "outputs": [],
   "source": [
    "fig = px.pie(\n",
    "    sales_by_category,\n",
    "    values='Sales',\n",
    "    names='Category',\n",
    "    hole=0.2,\n",
    "    color_discrete_sequence=px.colors.qualitative.Pastel1 \n",
    ")\n",
    "\n",
    "fig.update_traces(textposition=\"inside\", textinfo=\"percent+label\")\n",
    "fig.update_layout(title_text=\"Sales Analysis by Category\", title_font=dict(size=24))\n",
    "\n",
    "fig.show()\n"
   ]
  },
  {
   "cell_type": "markdown",
   "id": "23abce4b-452e-4f82-890c-df2db956ff97",
   "metadata": {},
   "source": [
    "# Sales Analysis By Sub Category"
   ]
  },
  {
   "cell_type": "code",
   "execution_count": null,
   "id": "b0d6b870-0203-4623-b804-05a4ba4b3978",
   "metadata": {},
   "outputs": [],
   "source": [
    "data.head()"
   ]
  },
  {
   "cell_type": "code",
   "execution_count": null,
   "id": "8626fae6-03c4-4fbb-9710-4769a8382e72",
   "metadata": {},
   "outputs": [],
   "source": [
    "sales_by_subcategory = data.groupby('Sub-Category')['Sales'].sum().reset_index()"
   ]
  },
  {
   "cell_type": "code",
   "execution_count": null,
   "id": "264c16f7-3ed4-4f93-afc1-df597b31b94e",
   "metadata": {},
   "outputs": [],
   "source": [
    "sales_by_subcategory"
   ]
  },
  {
   "cell_type": "code",
   "execution_count": null,
   "id": "d208b15d-eb8e-4a5a-bf0f-26f2cd56fe19",
   "metadata": {},
   "outputs": [],
   "source": [
    "fig = px.bar(sales_by_subcategory, \n",
    "x = 'Sub-Category',\n",
    "y = 'Sales',\n",
    "title = 'Sales Analysis by Sub Category')\n",
    "\n",
    "fig.show()\n"
   ]
  },
  {
   "cell_type": "markdown",
   "id": "d8961ac4-bb59-4dba-a821-f58f823da28c",
   "metadata": {},
   "source": [
    "# Monthly Profit Analysis"
   ]
  },
  {
   "cell_type": "code",
   "execution_count": null,
   "id": "425143ba-b394-4fff-a6e2-ad4bb5d3d794",
   "metadata": {},
   "outputs": [],
   "source": [
    "data.head()"
   ]
  },
  {
   "cell_type": "code",
   "execution_count": null,
   "id": "e4e20eb4-af64-4035-a22b-5a416b5405b0",
   "metadata": {},
   "outputs": [],
   "source": [
    "profit_by_month = data.groupby('Order Month')['Profit'].sum().reset_index()"
   ]
  },
  {
   "cell_type": "code",
   "execution_count": null,
   "id": "1cf992bc-246f-4d21-8b4a-b9a525345d95",
   "metadata": {},
   "outputs": [],
   "source": [
    "profit_by_month"
   ]
  },
  {
   "cell_type": "code",
   "execution_count": null,
   "id": "1bf99f17-c0dc-43c8-a9cc-089cd5ffc112",
   "metadata": {},
   "outputs": [],
   "source": [
    "fig = px.line(profit_by_month, \n",
    "              x = 'Order Month',\n",
    "              y = 'Profit',\n",
    "              title = 'Monthly Profit Analysis')\n",
    "fig.show()"
   ]
  },
  {
   "cell_type": "markdown",
   "id": "ce4dd755-44fb-4115-bba3-9aa8b25f36b5",
   "metadata": {},
   "source": [
    "# Profit By Category"
   ]
  },
  {
   "cell_type": "code",
   "execution_count": null,
   "id": "7013bb31-45f2-47eb-b16a-a26715b1951b",
   "metadata": {},
   "outputs": [],
   "source": [
    "Profit_by_category = data.groupby('Category')['Profit'].sum().reset_index()"
   ]
  },
  {
   "cell_type": "code",
   "execution_count": null,
   "id": "49b65a34-6df9-4c8a-8498-25f524a2d728",
   "metadata": {},
   "outputs": [],
   "source": [
    "Profit_by_category"
   ]
  },
  {
   "cell_type": "code",
   "execution_count": null,
   "id": "ece4a7a4-54fb-4565-bc94-c216d9adc577",
   "metadata": {},
   "outputs": [],
   "source": [
    "fig = px.pie(\n",
    "    Profit_by_category,\n",
    "    values='Profit',\n",
    "    names='Category',\n",
    "    hole=0.2,\n",
    "    color_discrete_sequence=px.colors.qualitative.Set3\n",
    ")\n",
    "\n",
    "fig.update_traces(textposition=\"inside\", textinfo=\"percent+label\")\n",
    "fig.update_layout(title_text=\"Profit Analysis by Category\", title_font=dict(size=24))\n",
    "\n",
    "fig.show()\n"
   ]
  },
  {
   "cell_type": "markdown",
   "id": "c90a99ad-45b2-46bc-a141-5b6329596d7b",
   "metadata": {},
   "source": [
    "# Profit By Sub_Category"
   ]
  },
  {
   "cell_type": "code",
   "execution_count": null,
   "id": "dbe1ad1c-0692-43f1-a768-1e648783a716",
   "metadata": {},
   "outputs": [],
   "source": [
    "Profit_by_subcategory = data.groupby('Sub-Category')['Profit'].sum().reset_index()\n",
    "\n",
    "fig = px.bar(Profit_by_subcategory, \n",
    "              x = 'Sub-Category',\n",
    "              y = 'Profit',\n",
    "              title = 'Profit Analysis by Sub-Category')\n",
    "fig.show()"
   ]
  },
  {
   "cell_type": "markdown",
   "id": "9fa4c8c9-bb2f-40cc-aecf-a7d5cf6b72a4",
   "metadata": {},
   "source": [
    "# Sales And Profit-Customer Segment"
   ]
  },
  {
   "cell_type": "code",
   "execution_count": null,
   "id": "348263e2-5cef-4242-ad05-3b7eb263b24d",
   "metadata": {},
   "outputs": [],
   "source": [
    "data.head()"
   ]
  },
  {
   "cell_type": "code",
   "execution_count": null,
   "id": "2f3b5423-20fa-438c-9f40-f5e27876fe2c",
   "metadata": {},
   "outputs": [],
   "source": [
    "Sales_Profit_By_Segment = data.groupby('Segment').agg({'Sales': 'sum', 'Profit': 'sum'}).reset_index()\n",
    "\n",
    "color_palette = px.colors.qualitative.Pastel\n",
    "\n",
    "fig = go.Figure()\n",
    "\n",
    "fig.add_trace(go.Bar(\n",
    "    x=Sales_Profit_By_Segment['Segment'],\n",
    "    y=Sales_Profit_By_Segment['Sales'],\n",
    "    name='Sales',\n",
    "    marker_color=color_palette[0]  \n",
    "))\n",
    "\n",
    "fig.add_trace(go.Bar(\n",
    "    x=Sales_Profit_By_Segment['Segment'],\n",
    "    y=Sales_Profit_By_Segment['Profit'],\n",
    "    name='Profit',  # Corrected name\n",
    "    marker_color=color_palette[1]  # Fixed index syntax\n",
    "))\n",
    "\n",
    "fig.update_layout(\n",
    "    title='Sales and Profit Analysis by Customer Segment',\n",
    "    xaxis_title='Customer Segment',\n",
    "    yaxis_title='Amount',\n",
    "    barmode='group'\n",
    ")\n",
    "\n",
    "fig.show()"
   ]
  },
  {
   "cell_type": "markdown",
   "id": "5047c5e5-835c-4559-b89b-513bd8007629",
   "metadata": {},
   "source": [
    "# Sales To Profit Ratio"
   ]
  },
  {
   "cell_type": "code",
   "execution_count": null,
   "id": "c4a6f695-add6-427a-91a8-f1c6eea61026",
   "metadata": {},
   "outputs": [],
   "source": [
    "Sales_Profit_By_Segment = data.groupby('Segment').agg({'Sales': 'sum', 'Profit': 'sum'}).reset_index()"
   ]
  },
  {
   "cell_type": "code",
   "execution_count": null,
   "id": "618f4eaa-6a92-43af-8d3b-635c00a2e448",
   "metadata": {},
   "outputs": [],
   "source": [
    "Sales_Profit_By_Segment['Sales_to_Profit_Ratio'] = Sales_Profit_By_Segment['Sales'] / Sales_Profit_By_Segment['Profit']\n",
    "print(Sales_Profit_By_Segment[['Segment', 'Sales_to_Profit_Ratio']])"
   ]
  },
  {
   "cell_type": "code",
   "execution_count": null,
   "id": "3792ec6f-48bd-4d8a-9f34-8f6bb45744b9",
   "metadata": {},
   "outputs": [],
   "source": []
  }
 ],
 "metadata": {
  "kernelspec": {
   "display_name": "Python 3 (ipykernel)",
   "language": "python",
   "name": "python3"
  },
  "language_info": {
   "codemirror_mode": {
    "name": "ipython",
    "version": 3
   },
   "file_extension": ".py",
   "mimetype": "text/x-python",
   "name": "python",
   "nbconvert_exporter": "python",
   "pygments_lexer": "ipython3",
   "version": "3.13.2"
  }
 },
 "nbformat": 4,
 "nbformat_minor": 5
}
